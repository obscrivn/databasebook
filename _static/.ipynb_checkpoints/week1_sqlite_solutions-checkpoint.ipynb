{
 "cells": [
  {
   "cell_type": "markdown",
   "metadata": {
    "id": "-iiCiCLWU67T"
   },
   "source": [
    "# Week 1 Practice"
   ]
  },
  {
   "cell_type": "markdown",
   "metadata": {
    "id": "Scodf48YU67W"
   },
   "source": [
    "You will need:\n",
    "- Chapter 1 (SQL Cook Book). In this notebook you will be practicing the code provided in the chapter.\n",
    "- Download emp.csv and dept.csv\n",
    "    - [emp.csv](_static/emp.csv)\n",
    "    - [dept.csv](_static/dept.csv)\n",
    "\n",
    "************\n",
    "- Step 1-4: You will create a database week1.db\n",
    "- Step 5: Practice Chapter 1 code\n",
    "- Step 6: Close db connection\n",
    "- Step 7: Open db connection using week1.db (you do not need step1-4 anymore)"
   ]
  },
  {
   "cell_type": "code",
   "execution_count": 1,
   "metadata": {
    "id": "tZ9Nv-IlU67X"
   },
   "outputs": [],
   "source": [
    "import sqlite3\n",
    "import pandas as pd"
   ]
  },
  {
   "cell_type": "markdown",
   "metadata": {
    "id": "299rzzVMU67Y"
   },
   "source": [
    "STEP 1. Create a database named week1. You shsold have a new file week1.db in your local directory."
   ]
  },
  {
   "cell_type": "code",
   "execution_count": 2,
   "metadata": {
    "id": "dRuBoojeU67Y"
   },
   "outputs": [],
   "source": [
    "conn = sqlite3.connect('week1.db')  \n",
    "c = conn.cursor()"
   ]
  },
  {
   "cell_type": "markdown",
   "metadata": {
    "id": "-xCS-6bOU67Z"
   },
   "source": [
    "STEP 2. Read emp.csv and create a table emp"
   ]
  },
  {
   "cell_type": "code",
   "execution_count": 4,
   "metadata": {
    "id": "QxfsH5NDU67Z"
   },
   "outputs": [],
   "source": [
    "read_emp = pd.read_csv(r'emp.csv')\n",
    "read_emp.to_sql('emp', conn, if_exists='append', index = False) # Insert the values from the csv file into the table 'emp' "
   ]
  },
  {
   "cell_type": "markdown",
   "metadata": {
    "id": "BoOFOwD9U67a"
   },
   "source": [
    "STEP 3. read dept.csv and create a table dept"
   ]
  },
  {
   "cell_type": "code",
   "execution_count": 5,
   "metadata": {
    "id": "6AmLVJznU67b"
   },
   "outputs": [],
   "source": [
    "read_dept = pd.read_csv(r'dept.csv')\n",
    "read_dept.to_sql('dept', conn, if_exists='append', index = False) # Insert the values from the csv file into the table 'dept' "
   ]
  },
  {
   "cell_type": "markdown",
   "metadata": {
    "id": "-Vrc-r6wU67b"
   },
   "source": [
    "Execution Examples"
   ]
  },
  {
   "cell_type": "markdown",
   "metadata": {
    "id": "LeBeb640U67c"
   },
   "source": [
    "SQL statements will be executed with \n",
    "\n",
    "c.execute('''\n",
    "SQL code\n",
    "''')"
   ]
  },
  {
   "cell_type": "code",
   "execution_count": 6,
   "metadata": {
    "colab": {
     "base_uri": "https://localhost:8080/"
    },
    "id": "wzYv05YFU67c",
    "outputId": "771049fb-c1d0-44d0-ac0e-3e68a65b0009"
   },
   "outputs": [
    {
     "name": "stdout",
     "output_type": "stream",
     "text": [
      "(7369, 'SMITH', 'CLERK', 7902.0, '17-Dec-05', 800, None, 20)\n",
      "(7499, 'ALLEN', 'SALESMAN', 7698.0, '20-Feb-06', 1600, 300.0, 30)\n",
      "(7521, 'WARD', 'SALESMAN', 7698.0, '22-Feb-06', 1250, 500.0, 30)\n",
      "(7566, 'JONES', 'MANAGER', 7839.0, '2-Apr-06', 2975, None, 20)\n",
      "(7654, 'MARTIN', 'SALESMAN', 7698.0, '28-Sep-06', 1250, 1400.0, 30)\n",
      "(7698, 'BLAKE', 'MANAGER', 7839.0, '1-May-06', 2850, None, 30)\n",
      "(7782, 'CLARK', 'MANAGER', 7839.0, '9-Jun-06', 2450, None, 10)\n",
      "(7788, 'SCOTT', 'ANALYST', 7566.0, '9-Dec-07', 3000, None, 20)\n",
      "(7839, 'KING', 'PRESIDENT', None, '17-Nov-06', 5000, None, 10)\n",
      "(7844, 'TURNER', 'SALESMAN', 7698.0, '8-Sep-06', 1500, 0.0, 30)\n",
      "(7876, 'ADAMS', 'CLERK', 7788.0, '12-Jan-08', 1100, None, 20)\n",
      "(7900, 'JAMES', 'CLERK', 7698.0, '3-Dec-06', 950, None, 30)\n",
      "(7902, 'FORD', 'ANALYST', 7566.0, '3-Dec-06', 3000, None, 20)\n",
      "(7934, 'MILLER', 'CLERK', 7782.0, '23-Jan-07', 1300, None, 10)\n"
     ]
    }
   ],
   "source": [
    "#Example 1\n",
    "for row in c.execute('''\n",
    "select * from emp\n",
    "'''):\n",
    "    print(row)"
   ]
  },
  {
   "cell_type": "code",
   "execution_count": 7,
   "metadata": {
    "colab": {
     "base_uri": "https://localhost:8080/"
    },
    "id": "qqN77nOaU67d",
    "outputId": "9bb6e946-592e-4247-e6a5-29e89475b236"
   },
   "outputs": [
    {
     "name": "stdout",
     "output_type": "stream",
     "text": [
      "EMPNO\n",
      "ENAME\n",
      "JOB\n",
      "MGR\n",
      "HIREDATE\n",
      "SAL\n",
      "COMM\n",
      "DEPTNO\n"
     ]
    }
   ],
   "source": [
    "colnames = c.description\n",
    "for row in colnames:\n",
    "    print(row[0])"
   ]
  },
  {
   "cell_type": "markdown",
   "metadata": {
    "id": "PFQ4IeK6U67d"
   },
   "source": [
    "To print a table, use fetchall() to collect data and add column names thaht you have selected."
   ]
  },
  {
   "cell_type": "code",
   "execution_count": 8,
   "metadata": {
    "colab": {
     "base_uri": "https://localhost:8080/"
    },
    "id": "T7v3HHU4U67e",
    "outputId": "0154ff39-0356-4c77-ff16-03033652cce6"
   },
   "outputs": [
    {
     "name": "stdout",
     "output_type": "stream",
     "text": [
      "    EMPNO   ENAME        JOB     MGR   HIREDATE   SAL    COMM  DEPTNO\n",
      "0    7369   SMITH      CLERK  7902.0  17-Dec-05   800     NaN      20\n",
      "1    7499   ALLEN   SALESMAN  7698.0  20-Feb-06  1600   300.0      30\n",
      "2    7521    WARD   SALESMAN  7698.0  22-Feb-06  1250   500.0      30\n",
      "3    7566   JONES    MANAGER  7839.0   2-Apr-06  2975     NaN      20\n",
      "4    7654  MARTIN   SALESMAN  7698.0  28-Sep-06  1250  1400.0      30\n",
      "5    7698   BLAKE    MANAGER  7839.0   1-May-06  2850     NaN      30\n",
      "6    7782   CLARK    MANAGER  7839.0   9-Jun-06  2450     NaN      10\n",
      "7    7788   SCOTT    ANALYST  7566.0   9-Dec-07  3000     NaN      20\n",
      "8    7839    KING  PRESIDENT     NaN  17-Nov-06  5000     NaN      10\n",
      "9    7844  TURNER   SALESMAN  7698.0   8-Sep-06  1500     0.0      30\n",
      "10   7876   ADAMS      CLERK  7788.0  12-Jan-08  1100     NaN      20\n",
      "11   7900   JAMES      CLERK  7698.0   3-Dec-06   950     NaN      30\n",
      "12   7902    FORD    ANALYST  7566.0   3-Dec-06  3000     NaN      20\n",
      "13   7934  MILLER      CLERK  7782.0  23-Jan-07  1300     NaN      10\n"
     ]
    }
   ],
   "source": [
    "# Example 2\n",
    "c.execute('''\n",
    "select * from emp\n",
    "''')\n",
    "\n",
    "df = pd.DataFrame(c.fetchall(), columns=['EMPNO',\n",
    "'ENAME',\n",
    "'JOB',\n",
    "'MGR',\n",
    "'HIREDATE',\n",
    "'SAL',\n",
    "'COMM',\n",
    "'DEPTNO'])\n",
    "print(df)"
   ]
  },
  {
   "cell_type": "markdown",
   "metadata": {
    "id": "HyXMTSj2U67e"
   },
   "source": [
    "### Basics of SQL Queries  \n",
    "\n",
    "**SELECT**: Statement used to select rows and columns from a database. \n",
    "\n",
    "**FROM**:  Specifies which table in the database you want to direct your query to.\n",
    "\n",
    "**WHERE**: Clause for filtering for specified value(s).\n",
    "\n",
    "**GROUP BY**: Aggregating data. Needs to be used in conjunction with SQL aggregating functions like `SUM` and `COUNT`.\n",
    "\n",
    "**ORDER BY**: Sorting columns in the database. \n",
    "\n",
    "**JOIN**: Joins are used to combine tables with one another. \n",
    "\n",
    "**UNION**, **INTERSECT/EXCEPT**: Set operations. Unioning in SQL allows one to append tables on top of one another. "
   ]
  },
  {
   "cell_type": "markdown",
   "metadata": {
    "id": "CHgQ94orU67f"
   },
   "source": [
    "### Step 5. Practice Chapter 1"
   ]
  },
  {
   "cell_type": "code",
   "execution_count": null,
   "metadata": {
    "id": "Xj-gHLvpU67f"
   },
   "outputs": [],
   "source": [
    "## Your turn"
   ]
  },
  {
   "cell_type": "markdown",
   "metadata": {
    "id": "2n3ly8PPU67g"
   },
   "source": [
    "### Step 6. Close the connection"
   ]
  },
  {
   "cell_type": "code",
   "execution_count": null,
   "metadata": {
    "id": "omaRTqnoU67g"
   },
   "outputs": [],
   "source": [
    "conn.close()"
   ]
  },
  {
   "cell_type": "markdown",
   "metadata": {
    "id": "Kihfng6jU67g"
   },
   "source": [
    "### Step 7. Open connection with your database week1.db"
   ]
  },
  {
   "cell_type": "code",
   "execution_count": null,
   "metadata": {
    "id": "9WtpMNEpU67h"
   },
   "outputs": [],
   "source": [
    "conn = sqlite3.connect('week1.db')\n",
    "c = conn.cursor()"
   ]
  },
  {
   "cell_type": "code",
   "execution_count": null,
   "metadata": {
    "id": "yj6yuSaIU67h"
   },
   "outputs": [],
   "source": [
    "## You can continue working with SQL coding now"
   ]
  },
  {
   "cell_type": "code",
   "execution_count": 9,
   "metadata": {
    "colab": {
     "base_uri": "https://localhost:8080/"
    },
    "id": "P-9-OTN9U67h",
    "outputId": "8750b1e5-e0e5-4849-d65b-2bdedbdc27b0"
   },
   "outputs": [
    {
     "name": "stdout",
     "output_type": "stream",
     "text": [
      "(7369, 'SMITH', 'CLERK', 7902.0, '17-Dec-05', 800, None, 20)\n",
      "(7499, 'ALLEN', 'SALESMAN', 7698.0, '20-Feb-06', 1600, 300.0, 30)\n",
      "(7521, 'WARD', 'SALESMAN', 7698.0, '22-Feb-06', 1250, 500.0, 30)\n",
      "(7566, 'JONES', 'MANAGER', 7839.0, '2-Apr-06', 2975, None, 20)\n",
      "(7654, 'MARTIN', 'SALESMAN', 7698.0, '28-Sep-06', 1250, 1400.0, 30)\n",
      "(7698, 'BLAKE', 'MANAGER', 7839.0, '1-May-06', 2850, None, 30)\n",
      "(7782, 'CLARK', 'MANAGER', 7839.0, '9-Jun-06', 2450, None, 10)\n",
      "(7788, 'SCOTT', 'ANALYST', 7566.0, '9-Dec-07', 3000, None, 20)\n",
      "(7839, 'KING', 'PRESIDENT', None, '17-Nov-06', 5000, None, 10)\n",
      "(7844, 'TURNER', 'SALESMAN', 7698.0, '8-Sep-06', 1500, 0.0, 30)\n",
      "(7876, 'ADAMS', 'CLERK', 7788.0, '12-Jan-08', 1100, None, 20)\n",
      "(7900, 'JAMES', 'CLERK', 7698.0, '3-Dec-06', 950, None, 30)\n",
      "(7902, 'FORD', 'ANALYST', 7566.0, '3-Dec-06', 3000, None, 20)\n",
      "(7934, 'MILLER', 'CLERK', 7782.0, '23-Jan-07', 1300, None, 10)\n"
     ]
    }
   ],
   "source": [
    "for row in c.execute('''select * from emp'''):\n",
    "    print(row)"
   ]
  },
  {
   "cell_type": "code",
   "execution_count": 10,
   "metadata": {
    "colab": {
     "base_uri": "https://localhost:8080/"
    },
    "id": "jINLJ9zqVcjq",
    "outputId": "7d7411e6-f2e5-464f-8bbc-b8c5e404ef82"
   },
   "outputs": [
    {
     "name": "stdout",
     "output_type": "stream",
     "text": [
      "(7782, 'CLARK', 'MANAGER', 7839.0, '9-Jun-06', 2450, None, 10)\n",
      "(7839, 'KING', 'PRESIDENT', None, '17-Nov-06', 5000, None, 10)\n",
      "(7934, 'MILLER', 'CLERK', 7782.0, '23-Jan-07', 1300, None, 10)\n"
     ]
    }
   ],
   "source": [
    "for row in c.execute('''select * from emp where deptno=10'''):\n",
    "    print(row)"
   ]
  },
  {
   "cell_type": "code",
   "execution_count": 11,
   "metadata": {
    "colab": {
     "base_uri": "https://localhost:8080/"
    },
    "id": "VtRvjfK1V6KR",
    "outputId": "6538ee54-bd81-42f7-e6d0-05142c825b91"
   },
   "outputs": [
    {
     "name": "stdout",
     "output_type": "stream",
     "text": [
      "(7369, 'SMITH', 'CLERK', 7902.0, '17-Dec-05', 800, None, 20)\n",
      "(7876, 'ADAMS', 'CLERK', 7788.0, '12-Jan-08', 1100, None, 20)\n"
     ]
    }
   ],
   "source": [
    "for row in c.execute('''select * from emp where (deptno=10 \n",
    "or comm is not null\n",
    "or sal <= 2000) and deptno=20'''):\n",
    "    print(row)"
   ]
  },
  {
   "cell_type": "markdown",
   "metadata": {
    "id": "F8Wvor-mWdfL"
   },
   "source": [
    "##### Return specific colulmns"
   ]
  },
  {
   "cell_type": "code",
   "execution_count": 12,
   "metadata": {
    "colab": {
     "base_uri": "https://localhost:8080/"
    },
    "id": "Qa-M0yynWiti",
    "outputId": "ae30551d-e33e-4435-ffd5-73c6cc5143df"
   },
   "outputs": [
    {
     "name": "stdout",
     "output_type": "stream",
     "text": [
      "('SMITH', 20, 800)\n",
      "('ALLEN', 30, 1600)\n",
      "('WARD', 30, 1250)\n",
      "('JONES', 20, 2975)\n",
      "('MARTIN', 30, 1250)\n",
      "('BLAKE', 30, 2850)\n",
      "('CLARK', 10, 2450)\n",
      "('SCOTT', 20, 3000)\n",
      "('KING', 10, 5000)\n",
      "('TURNER', 30, 1500)\n",
      "('ADAMS', 20, 1100)\n",
      "('JAMES', 30, 950)\n",
      "('FORD', 20, 3000)\n",
      "('MILLER', 10, 1300)\n"
     ]
    }
   ],
   "source": [
    "for row in c.execute('''SELECT ename, deptno, sal from emp'''):\n",
    "    print(row)"
   ]
  },
  {
   "cell_type": "markdown",
   "metadata": {
    "id": "x1oxaE-cWqWh"
   },
   "source": [
    "##### To change the names of the columns using AS keyword. This is known as aliasing. "
   ]
  },
  {
   "cell_type": "code",
   "execution_count": 13,
   "metadata": {
    "colab": {
     "base_uri": "https://localhost:8080/"
    },
    "id": "6ZyQEeWwXDM0",
    "outputId": "f15c5ab2-3b3b-439e-af10-9a6e637462c0"
   },
   "outputs": [
    {
     "name": "stdout",
     "output_type": "stream",
     "text": [
      "    SALARY  COMMISSION\n",
      "0      800         NaN\n",
      "1     1600       300.0\n",
      "2     1250       500.0\n",
      "3     2975         NaN\n",
      "4     1250      1400.0\n",
      "5     2850         NaN\n",
      "6     2450         NaN\n",
      "7     3000         NaN\n",
      "8     5000         NaN\n",
      "9     1500         0.0\n",
      "10    1100         NaN\n",
      "11     950         NaN\n",
      "12    3000         NaN\n",
      "13    1300         NaN\n"
     ]
    }
   ],
   "source": [
    "c.execute('''SELECT sal AS salary, comm AS commission FROM emp''')\n",
    "#     column_name = c.description\n",
    "#     for cname in column_name:\n",
    "#         print(cname)\n",
    "df = pd.DataFrame(c.fetchall(), columns=['SALARY', 'COMMISSION'])    \n",
    "print(df)"
   ]
  },
  {
   "cell_type": "markdown",
   "metadata": {
    "id": "41tNxHEnXVUP"
   },
   "source": [
    "##### Problems with referencing the aliased columns in WHERE clause, the WHERE clause gets executed before the SELECT;Thus, the new aliases do not yet exist when the query's WHERE clause is evaluated. The solution is to wrap your query as an inline view. Use fetchall() to collect data"
   ]
  },
  {
   "cell_type": "code",
   "execution_count": 15,
   "metadata": {
    "colab": {
     "base_uri": "https://localhost:8080/"
    },
    "id": "oiDjf28jXgTg",
    "outputId": "84821a18-42c8-4836-b316-2ed9a4c193aa"
   },
   "outputs": [
    {
     "name": "stdout",
     "output_type": "stream",
     "text": [
      "    SALARY  COMMISSION\n",
      "0      800         NaN\n",
      "1     1600       300.0\n",
      "2     1250       500.0\n",
      "3     2975         NaN\n",
      "4     1250      1400.0\n",
      "5     2850         NaN\n",
      "6     2450         NaN\n",
      "7     3000         NaN\n",
      "8     1500         0.0\n",
      "9     1100         NaN\n",
      "10     950         NaN\n",
      "11    3000         NaN\n",
      "12    1300         NaN\n"
     ]
    }
   ],
   "source": [
    "c.execute('''SELECT * from(SELECT sal AS salary, comm AS commision FROM emp) WHERE salary < 5000''')\n",
    "df = pd.DataFrame(c.fetchall(), columns=['SALARY', 'COMMISSION'])\n",
    "print(df)"
   ]
  },
  {
   "cell_type": "markdown",
   "metadata": {
    "id": "NuFdmOn3X7GJ"
   },
   "source": [
    "##### Concatenating the coulmn values. The usage is dependent on the DBs. For the DB2, Oracle, PostgreSQl, uses the vertical bars."
   ]
  },
  {
   "cell_type": "code",
   "execution_count": 16,
   "metadata": {
    "colab": {
     "base_uri": "https://localhost:8080/"
    },
    "id": "_myzZw4jX_cu",
    "outputId": "5e9b600e-f095-4a5c-b5d8-c04329bb1a10"
   },
   "outputs": [
    {
     "name": "stdout",
     "output_type": "stream",
     "text": [
      "                           0\n",
      "0   CLARK WORKS AS A MANAGER\n",
      "1  KING WORKS AS A PRESIDENT\n",
      "2    MILLER WORKS AS A CLERK\n"
     ]
    }
   ],
   "source": [
    "c.execute('''SELECT ename||' WORKS AS A '||job AS msg FROM emp WHERE deptno=10''')\n",
    "df = pd.DataFrame(c.fetchall())\n",
    "print(df)"
   ]
  },
  {
   "cell_type": "markdown",
   "metadata": {
    "id": "r1ooYiO2YMR0"
   },
   "source": [
    "- MySQL supports a function called CONCAT (sqlite doesn't support CONCAT())\n",
    "  - c.execute('''SELECT concat(ename, 'WORKS AS A ',job) AS msg FROM emp WHERE deptno=10''') df = pd.DataFrame(c.fetchall()) print(df)\n",
    "- SQL server, Uses the + operator for concatenation.\n",
    "  - c.execute('''SELECT ename + ' WORKS AS A ' + job AS msg FROM emp WHERE deptno=10''') df = pd.DataFrame(c.fetchall()) print(df)"
   ]
  },
  {
   "cell_type": "markdown",
   "metadata": {
    "id": "juhmoB5TYmI5"
   },
   "source": [
    "##### Using conditional logic in a SELECT statement. Use CASE expression to perform conditional logic directly in your SELECT statement"
   ]
  },
  {
   "cell_type": "code",
   "execution_count": 17,
   "metadata": {
    "colab": {
     "base_uri": "https://localhost:8080/"
    },
    "id": "jvK5FHoEYtAy",
    "outputId": "4c192dfb-b68a-4d33-9b1e-ad73960ed1e2"
   },
   "outputs": [
    {
     "name": "stdout",
     "output_type": "stream",
     "text": [
      "     ename  salary     status\n",
      "0    SMITH     800  UNDERPAID\n",
      "1    ALLEN    1600  UNDERPAID\n",
      "2     WARD    1250  UNDERPAID\n",
      "3    JONES    2975         OK\n",
      "4   MARTIN    1250  UNDERPAID\n",
      "5    BLAKE    2850         OK\n",
      "6    CLARK    2450         OK\n",
      "7    SCOTT    3000         OK\n",
      "8     KING    5000   overpaid\n",
      "9   TURNER    1500  UNDERPAID\n",
      "10   ADAMS    1100  UNDERPAID\n",
      "11   JAMES     950  UNDERPAID\n",
      "12    FORD    3000         OK\n",
      "13  MILLER    1300  UNDERPAID\n"
     ]
    }
   ],
   "source": [
    "c.execute('''SELECT ename,sal, CASE when sal <= 2000 then 'UNDERPAID' when sal >= 4000 then 'overpaid' else 'OK' end as status from emp''')\n",
    "df = pd.DataFrame(c.fetchall(), columns=['ename', 'salary', 'status'])\n",
    "print(df)"
   ]
  },
  {
   "cell_type": "markdown",
   "metadata": {
    "id": "b3rqz-YjY2Dh"
   },
   "source": [
    "- The CASE expression allows to perform condition logic on values returned by a query. Also, you can alias the result of the CASE expression. In the above example CASE is aliased as status"
   ]
  },
  {
   "cell_type": "markdown",
   "metadata": {
    "id": "F1naqiNbY8CZ"
   },
   "source": [
    "##### Limit the number of rows returned.\n",
    "- Using DB2\n",
    "  - c.execute('''SELECT * FROM emp fetch 5 rows only''')"
   ]
  },
  {
   "cell_type": "code",
   "execution_count": 18,
   "metadata": {
    "colab": {
     "base_uri": "https://localhost:8080/"
    },
    "id": "dsiLxeRyZHJQ",
    "outputId": "d7c545b1-bdf0-40c0-9ab5-53220abb577e"
   },
   "outputs": [
    {
     "name": "stdout",
     "output_type": "stream",
     "text": [
      "      0       1         2       3          4     5       6   7\n",
      "0  7369   SMITH     CLERK  7902.0  17-Dec-05   800     NaN  20\n",
      "1  7499   ALLEN  SALESMAN  7698.0  20-Feb-06  1600   300.0  30\n",
      "2  7521    WARD  SALESMAN  7698.0  22-Feb-06  1250   500.0  30\n",
      "3  7566   JONES   MANAGER  7839.0   2-Apr-06  2975     NaN  20\n",
      "4  7654  MARTIN  SALESMAN  7698.0  28-Sep-06  1250  1400.0  30\n"
     ]
    }
   ],
   "source": [
    "c.execute('''SELECT * FROM emp limit 5''')\n",
    "df = pd.DataFrame(c.fetchall())\n",
    "print(df)"
   ]
  },
  {
   "cell_type": "markdown",
   "metadata": {
    "id": "rnw9AvaEZOyy"
   },
   "source": [
    "##### Returning a random record from a table. Use built-in RANDOM function in conjuction with LIMT and ORDER BY"
   ]
  },
  {
   "cell_type": "code",
   "execution_count": 19,
   "metadata": {
    "colab": {
     "base_uri": "https://localhost:8080/"
    },
    "id": "dhLjumC_ZS1T",
    "outputId": "5e3dd81e-8195-47d7-89c3-1d1a80e8253c"
   },
   "outputs": [
    {
     "name": "stdout",
     "output_type": "stream",
     "text": [
      "    ename       job\n",
      "0   JONES   MANAGER\n",
      "1  TURNER  SALESMAN\n",
      "2   ALLEN  SALESMAN\n",
      "3    WARD  SALESMAN\n",
      "4   ADAMS     CLERK\n"
     ]
    }
   ],
   "source": [
    "c.execute('''SELECT ename,job FROM emp ORDER BY RANDOM() LIMIT 5''')\n",
    "df = pd.DataFrame(c.fetchall(), columns=['ename','job'])\n",
    "print(df)"
   ]
  },
  {
   "cell_type": "markdown",
   "metadata": {
    "id": "JFiv5bS6ZZBv"
   },
   "source": [
    "##### Finding Null Values. Determine whether the value is null, using IS NULL."
   ]
  },
  {
   "cell_type": "code",
   "execution_count": 20,
   "metadata": {
    "colab": {
     "base_uri": "https://localhost:8080/"
    },
    "id": "m_tR-91yZauN",
    "outputId": "94369ae5-b721-4038-bc57-b2ce21a235c7"
   },
   "outputs": [
    {
     "name": "stdout",
     "output_type": "stream",
     "text": [
      "      0       1          2       3          4     5     6   7\n",
      "0  7369   SMITH      CLERK  7902.0  17-Dec-05   800  None  20\n",
      "1  7566   JONES    MANAGER  7839.0   2-Apr-06  2975  None  20\n",
      "2  7698   BLAKE    MANAGER  7839.0   1-May-06  2850  None  30\n",
      "3  7782   CLARK    MANAGER  7839.0   9-Jun-06  2450  None  10\n",
      "4  7788   SCOTT    ANALYST  7566.0   9-Dec-07  3000  None  20\n",
      "5  7839    KING  PRESIDENT     NaN  17-Nov-06  5000  None  10\n",
      "6  7876   ADAMS      CLERK  7788.0  12-Jan-08  1100  None  20\n",
      "7  7900   JAMES      CLERK  7698.0   3-Dec-06   950  None  30\n",
      "8  7902    FORD    ANALYST  7566.0   3-Dec-06  3000  None  20\n",
      "9  7934  MILLER      CLERK  7782.0  23-Jan-07  1300  None  10\n"
     ]
    }
   ],
   "source": [
    "c.execute('''SELECT * FROM emp WHERE comm IS NULL''')\n",
    "df = pd.DataFrame(c.fetchall())\n",
    "print(df)"
   ]
  },
  {
   "cell_type": "markdown",
   "metadata": {
    "id": "h0BZxr71aUYP"
   },
   "source": [
    "- Transforming Null into real values, Use the function COALESCE to sunstitute real values for nulls"
   ]
  },
  {
   "cell_type": "code",
   "execution_count": 21,
   "metadata": {
    "colab": {
     "base_uri": "https://localhost:8080/"
    },
    "id": "kLGOgOzcaVXt",
    "outputId": "4f2a95af-7715-442e-840e-cf6d6400aaa8"
   },
   "outputs": [
    {
     "name": "stdout",
     "output_type": "stream",
     "text": [
      "         0\n",
      "0      0.0\n",
      "1    300.0\n",
      "2    500.0\n",
      "3      0.0\n",
      "4   1400.0\n",
      "5      0.0\n",
      "6      0.0\n",
      "7      0.0\n",
      "8      0.0\n",
      "9      0.0\n",
      "10     0.0\n",
      "11     0.0\n",
      "12     0.0\n",
      "13     0.0\n"
     ]
    }
   ],
   "source": [
    "c.execute('''SELECT COALESCE(comm,0) FROM emp''')\n",
    "df = pd.DataFrame(c.fetchall())\n",
    "print(df)"
   ]
  },
  {
   "cell_type": "markdown",
   "metadata": {
    "id": "K88H300ranQg"
   },
   "source": [
    "- You can also use the CASE to values"
   ]
  },
  {
   "cell_type": "code",
   "execution_count": 24,
   "metadata": {
    "colab": {
     "base_uri": "https://localhost:8080/"
    },
    "id": "mOiue7J6an7v",
    "outputId": "417cbfc9-18ec-4d02-d1f8-ed218b3fc932"
   },
   "outputs": [
    {
     "name": "stdout",
     "output_type": "stream",
     "text": [
      "         0\n",
      "0      0.0\n",
      "1    300.0\n",
      "2    500.0\n",
      "3      0.0\n",
      "4   1400.0\n",
      "5      0.0\n",
      "6      0.0\n",
      "7      0.0\n",
      "8      0.0\n",
      "9      0.0\n",
      "10     0.0\n",
      "11     0.0\n",
      "12     0.0\n",
      "13     0.0\n"
     ]
    }
   ],
   "source": [
    "c.execute('''SELECT CASE\n",
    "                    WHEN comm IS NOT NULL THEN comm\n",
    "                    ELSE 0\n",
    "                    END\n",
    "            FROM emp''')\n",
    "df = pd.DataFrame(c.fetchall())\n",
    "print(df)"
   ]
  },
  {
   "cell_type": "markdown",
   "metadata": {
    "id": "hqDT4KeQbCI5"
   },
   "source": [
    "##### Seraching for a pattern, use the LIKE operator in conjunction with the SQL wildcard operator (%)"
   ]
  },
  {
   "cell_type": "code",
   "execution_count": 25,
   "metadata": {
    "colab": {
     "base_uri": "https://localhost:8080/"
    },
    "id": "qAWiUkOcbDg5",
    "outputId": "0a52ded6-b3af-4b39-d861-fb89da3d9d71"
   },
   "outputs": [
    {
     "name": "stdout",
     "output_type": "stream",
     "text": [
      "    ename        job\n",
      "0   SMITH      CLERK\n",
      "1   JONES    MANAGER\n",
      "2   CLARK    MANAGER\n",
      "3    KING  PRESIDENT\n",
      "4  MILLER      CLERK\n"
     ]
    }
   ],
   "source": [
    "c.execute('''SELECT ename, job FROM emp WHERE deptno in (10, 20) AND (ename LIKE '%I%' OR job LIKE '%ER')''')\n",
    "df = pd.DataFrame(c.fetchall(), columns=['ename', 'job'])\n",
    "print(df)"
   ]
  },
  {
   "cell_type": "markdown",
   "metadata": {
    "id": "b60q89I2bfvd"
   },
   "source": [
    "#### Convert Jupyter to PDF"
   ]
  },
  {
   "cell_type": "code",
   "execution_count": 28,
   "metadata": {
    "colab": {
     "base_uri": "https://localhost:8080/",
     "height": 326
    },
    "id": "l3N3ovKpbobz",
    "outputId": "3fbc18c8-bd8d-4c68-8b4e-27a02251436d"
   },
   "outputs": [
    {
     "name": "stdout",
     "output_type": "stream",
     "text": [
      "File ‘colab_pdf.py’ already there; not retrieving.\n",
      "\n",
      "\n",
      "WARNING: apt does not have a stable CLI interface. Use with caution in scripts.\n",
      "\n",
      "\n",
      "WARNING: apt does not have a stable CLI interface. Use with caution in scripts.\n",
      "\n",
      "[NbConvertApp] Converting notebook /content/drive/My Drive/Colab Notebooks/week1-sqlite.ipynb to pdf\n",
      "[NbConvertApp] Writing 48824 bytes to ./notebook.tex\n",
      "[NbConvertApp] Building PDF\n",
      "[NbConvertApp] Running xelatex 3 times: [u'xelatex', u'./notebook.tex', '-quiet']\n",
      "[NbConvertApp] Running bibtex 1 time: [u'bibtex', u'./notebook']\n",
      "[NbConvertApp] WARNING | bibtex had problems, most likely because there were no citations\n",
      "[NbConvertApp] PDF successfully created\n",
      "[NbConvertApp] Writing 52739 bytes to /content/drive/My Drive/week1-sqlite.pdf\n"
     ]
    },
    {
     "data": {
      "application/javascript": [
       "\n",
       "    async function download(id, filename, size) {\n",
       "      if (!google.colab.kernel.accessAllowed) {\n",
       "        return;\n",
       "      }\n",
       "      const div = document.createElement('div');\n",
       "      const label = document.createElement('label');\n",
       "      label.textContent = `Downloading \"${filename}\": `;\n",
       "      div.appendChild(label);\n",
       "      const progress = document.createElement('progress');\n",
       "      progress.max = size;\n",
       "      div.appendChild(progress);\n",
       "      document.body.appendChild(div);\n",
       "\n",
       "      const buffers = [];\n",
       "      let downloaded = 0;\n",
       "\n",
       "      const channel = await google.colab.kernel.comms.open(id);\n",
       "      // Send a message to notify the kernel that we're ready.\n",
       "      channel.send({})\n",
       "\n",
       "      for await (const message of channel.messages) {\n",
       "        // Send a message to notify the kernel that we're ready.\n",
       "        channel.send({})\n",
       "        if (message.buffers) {\n",
       "          for (const buffer of message.buffers) {\n",
       "            buffers.push(buffer);\n",
       "            downloaded += buffer.byteLength;\n",
       "            progress.value = downloaded;\n",
       "          }\n",
       "        }\n",
       "      }\n",
       "      const blob = new Blob(buffers, {type: 'application/binary'});\n",
       "      const a = document.createElement('a');\n",
       "      a.href = window.URL.createObjectURL(blob);\n",
       "      a.download = filename;\n",
       "      div.appendChild(a);\n",
       "      a.click();\n",
       "      div.remove();\n",
       "    }\n",
       "  "
      ],
      "text/plain": [
       "<IPython.core.display.Javascript object>"
      ]
     },
     "metadata": {
      "tags": []
     },
     "output_type": "display_data"
    },
    {
     "data": {
      "application/javascript": [
       "download(\"download_2f78f135-d863-4704-b013-c427bd78fa58\", \"week1-sqlite.pdf\", 52739)"
      ],
      "text/plain": [
       "<IPython.core.display.Javascript object>"
      ]
     },
     "metadata": {
      "tags": []
     },
     "output_type": "display_data"
    },
    {
     "data": {
      "application/vnd.google.colaboratory.intrinsic+json": {
       "type": "string"
      },
      "text/plain": [
       "'File ready to be Downloaded and Saved to Drive'"
      ]
     },
     "execution_count": 28,
     "metadata": {
      "tags": []
     },
     "output_type": "execute_result"
    }
   ],
   "source": [
    "!wget -nc https://raw.githubusercontent.com/brpy/colab-pdf/master/colab_pdf.py\n",
    "from colab_pdf import colab_pdf\n",
    "colab_pdf('week1-sqlite.ipynb')"
   ]
  }
 ],
 "metadata": {
  "colab": {
   "collapsed_sections": [],
   "name": "week1-sqlite.ipynb",
   "provenance": [],
   "toc_visible": true
  },
  "kernelspec": {
   "display_name": "Python 3",
   "language": "python",
   "name": "python3"
  },
  "language_info": {
   "codemirror_mode": {
    "name": "ipython",
    "version": 3
   },
   "file_extension": ".py",
   "mimetype": "text/x-python",
   "name": "python",
   "nbconvert_exporter": "python",
   "pygments_lexer": "ipython3",
   "version": "3.7.1"
  }
 },
 "nbformat": 4,
 "nbformat_minor": 4
}
