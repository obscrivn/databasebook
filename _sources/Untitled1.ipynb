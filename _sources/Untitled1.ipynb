{
 "cells": [
  {
   "cell_type": "code",
   "execution_count": 1,
   "metadata": {},
   "outputs": [
    {
     "name": "stdout",
     "output_type": "stream",
     "text": [
      "Hello Redis!!!\n"
     ]
    }
   ],
   "source": [
    "#!/usr/bin/env python3\n",
    "\n",
    "# step 1: import the redis-py client package\n",
    "import redis\n",
    "\n",
    "# step 2: define our connection information for Redis\n",
    "# Replaces with your configuration information\n",
    "redis_host = \"localhost\"\n",
    "redis_port = 6379\n",
    "redis_password = \"\"\n",
    "\n",
    "\n",
    "def hello_redis():\n",
    "    \"\"\"Example Hello Redis Program\"\"\"\n",
    "   \n",
    "    # step 3: create the Redis Connection object\n",
    "    try:\n",
    "   \n",
    "        # The decode_repsonses flag here directs the client to convert the responses from Redis into Python strings\n",
    "        # using the default encoding utf-8.  This is client specific.\n",
    "        r = redis.StrictRedis(host=redis_host, port=redis_port, password=redis_password, decode_responses=True)\n",
    "   \n",
    "        # step 4: Set the hello message in Redis\n",
    "        r.set(\"msg:hello\", \"Hello Redis!!!\")\n",
    "\n",
    "        # step 5: Retrieve the hello message from Redis\n",
    "        msg = r.get(\"msg:hello\")\n",
    "        print(msg)        \n",
    "   \n",
    "    except Exception as e:\n",
    "        print(e)\n",
    "\n",
    "\n",
    "if __name__ == '__main__':\n",
    "    hello_redis()"
   ]
  },
  {
   "cell_type": "code",
   "execution_count": null,
   "metadata": {},
   "outputs": [],
   "source": []
  }
 ],
 "metadata": {
  "kernelspec": {
   "display_name": "Python 3",
   "language": "python",
   "name": "python3"
  },
  "language_info": {
   "codemirror_mode": {
    "name": "ipython",
    "version": 3
   },
   "file_extension": ".py",
   "mimetype": "text/x-python",
   "name": "python",
   "nbconvert_exporter": "python",
   "pygments_lexer": "ipython3",
   "version": "3.7.1"
  }
 },
 "nbformat": 4,
 "nbformat_minor": 4
}
