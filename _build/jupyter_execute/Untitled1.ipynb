{
 "cells": [
  {
   "cell_type": "code",
   "execution_count": 1,
   "metadata": {},
   "outputs": [
    {
     "ename": "ModuleNotFoundError",
     "evalue": "No module named 'redis'",
     "output_type": "error",
     "traceback": [
      "\u001b[0;31m---------------------------------------------------------------------------\u001b[0m",
      "\u001b[0;31mModuleNotFoundError\u001b[0m                       Traceback (most recent call last)",
      "Cell \u001b[0;32mIn[1], line 4\u001b[0m\n\u001b[1;32m      1\u001b[0m \u001b[38;5;66;03m#!/usr/bin/env python3\u001b[39;00m\n\u001b[1;32m      2\u001b[0m \n\u001b[1;32m      3\u001b[0m \u001b[38;5;66;03m# step 1: import the redis-py client package\u001b[39;00m\n\u001b[0;32m----> 4\u001b[0m \u001b[38;5;28;01mimport\u001b[39;00m \u001b[38;5;21;01mredis\u001b[39;00m\n\u001b[1;32m      6\u001b[0m \u001b[38;5;66;03m# step 2: define our connection information for Redis\u001b[39;00m\n\u001b[1;32m      7\u001b[0m \u001b[38;5;66;03m# Replaces with your configuration information\u001b[39;00m\n\u001b[1;32m      8\u001b[0m redis_host \u001b[38;5;241m=\u001b[39m \u001b[38;5;124m\"\u001b[39m\u001b[38;5;124mlocalhost\u001b[39m\u001b[38;5;124m\"\u001b[39m\n",
      "\u001b[0;31mModuleNotFoundError\u001b[0m: No module named 'redis'"
     ]
    }
   ],
   "source": [
    "#!/usr/bin/env python3\n",
    "\n",
    "# step 1: import the redis-py client package\n",
    "import redis\n",
    "\n",
    "# step 2: define our connection information for Redis\n",
    "# Replaces with your configuration information\n",
    "redis_host = \"localhost\"\n",
    "redis_port = 6379\n",
    "redis_password = \"\"\n",
    "\n",
    "\n",
    "def hello_redis():\n",
    "    \"\"\"Example Hello Redis Program\"\"\"\n",
    "   \n",
    "    # step 3: create the Redis Connection object\n",
    "    try:\n",
    "   \n",
    "        # The decode_repsonses flag here directs the client to convert the responses from Redis into Python strings\n",
    "        # using the default encoding utf-8.  This is client specific.\n",
    "        r = redis.StrictRedis(host=redis_host, port=redis_port, password=redis_password, decode_responses=True)\n",
    "   \n",
    "        # step 4: Set the hello message in Redis\n",
    "        r.set(\"msg:hello\", \"Hello Redis!!!\")\n",
    "\n",
    "        # step 5: Retrieve the hello message from Redis\n",
    "        msg = r.get(\"msg:hello\")\n",
    "        print(msg)        \n",
    "   \n",
    "    except Exception as e:\n",
    "        print(e)\n",
    "\n",
    "\n",
    "if __name__ == '__main__':\n",
    "    hello_redis()"
   ]
  },
  {
   "cell_type": "code",
   "execution_count": null,
   "metadata": {},
   "outputs": [],
   "source": []
  }
 ],
 "metadata": {
  "kernelspec": {
   "display_name": "Python 3",
   "language": "python",
   "name": "python3"
  },
  "language_info": {
   "codemirror_mode": {
    "name": "ipython",
    "version": 3
   },
   "file_extension": ".py",
   "mimetype": "text/x-python",
   "name": "python",
   "nbconvert_exporter": "python",
   "pygments_lexer": "ipython3",
   "version": "3.10.9"
  }
 },
 "nbformat": 4,
 "nbformat_minor": 4
}